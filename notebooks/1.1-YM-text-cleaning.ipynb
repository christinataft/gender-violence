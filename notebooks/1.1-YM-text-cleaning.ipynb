{
 "cells": [
  {
   "cell_type": "code",
   "execution_count": 95,
   "metadata": {},
   "outputs": [],
   "source": [
    "import json\n",
    "import pandas as pd\n",
    "import re\n",
    "import string\n",
    "import numpy as np"
   ]
  },
  {
   "cell_type": "code",
   "execution_count": 3,
   "metadata": {},
   "outputs": [],
   "source": [
    "with open(\"../data/raw/text.json\") as json_file:\n",
    "    data = json.load(json_file)"
   ]
  },
  {
   "cell_type": "code",
   "execution_count": 5,
   "metadata": {},
   "outputs": [
    {
     "data": {
      "text/html": [
       "<div>\n",
       "<style scoped>\n",
       "    .dataframe tbody tr th:only-of-type {\n",
       "        vertical-align: middle;\n",
       "    }\n",
       "\n",
       "    .dataframe tbody tr th {\n",
       "        vertical-align: top;\n",
       "    }\n",
       "\n",
       "    .dataframe thead th {\n",
       "        text-align: right;\n",
       "    }\n",
       "</style>\n",
       "<table border=\"1\" class=\"dataframe\">\n",
       "  <thead>\n",
       "    <tr style=\"text-align: right;\">\n",
       "      <th></th>\n",
       "      <th>file_id</th>\n",
       "      <th>text</th>\n",
       "    </tr>\n",
       "  </thead>\n",
       "  <tbody>\n",
       "    <tr>\n",
       "      <th>0</th>\n",
       "      <td>1ZEZSJXkKDSIyDULhRKfHXCLXpm-eYY0Z</td>\n",
       "      <td>Buenos Aires,     de junio de 2019. AUTOS Y V...</td>\n",
       "    </tr>\n",
       "    <tr>\n",
       "      <th>1</th>\n",
       "      <td>1srRixiO6V3FMxoumtAxMfEPblqoD8-gn</td>\n",
       "      <td>Buenos Aires,       de diciembre de 2019. En ...</td>\n",
       "    </tr>\n",
       "    <tr>\n",
       "      <th>2</th>\n",
       "      <td>1kpIno_4VKnxAcfmpXihrqTkpPbr15EvG4nqwfD6-xqc</td>\n",
       "      <td>Resumen: resolución interlocutoria por la que ...</td>\n",
       "    </tr>\n",
       "    <tr>\n",
       "      <th>3</th>\n",
       "      <td>1LHE9syGgdHcRRA7Ns9X31UPdYVy-GVJf</td>\n",
       "      <td>...</td>\n",
       "    </tr>\n",
       "    <tr>\n",
       "      <th>4</th>\n",
       "      <td>1N_D97m1WHrO9PqVpULeT1t_E0pI7XwO4</td>\n",
       "      <td>Buenos Aires,   11    de enero de 2019. La in...</td>\n",
       "    </tr>\n",
       "    <tr>\n",
       "      <th>...</th>\n",
       "      <td>...</td>\n",
       "      <td>...</td>\n",
       "    </tr>\n",
       "    <tr>\n",
       "      <th>2729</th>\n",
       "      <td>1KlV9Qcsff6ouhoSa-obG_Ci-FGgcPyp-zpYMsPYDjcQ</td>\n",
       "      <td>Resumen: resolución interlocutoria que rechaza...</td>\n",
       "    </tr>\n",
       "    <tr>\n",
       "      <th>2730</th>\n",
       "      <td>1tgQM3WYrdelhcozMMDB_6-hP_3CuvOlNWkcCfSxUgaw</td>\n",
       "      <td>AUDIENCIA DE PRUEBA (Art. 210 CPP) VIDEOCONFER...</td>\n",
       "    </tr>\n",
       "    <tr>\n",
       "      <th>2731</th>\n",
       "      <td>1DrlPAykTylCmuLOnHnCeuuJXl70gq_Q-</td>\n",
       "      <td>ACTA DE AUDIENCIA “ XX s/ Art. 67 CC 2do párr-...</td>\n",
       "    </tr>\n",
       "    <tr>\n",
       "      <th>2732</th>\n",
       "      <td>0B9wNhp3GjjazWHRubGpjY0VXMEU</td>\n",
       "      <td>Buenos Aires, 27 de junio de 2017 Hora de inic...</td>\n",
       "    </tr>\n",
       "    <tr>\n",
       "      <th>2733</th>\n",
       "      <td>0B9wNhp3GjjazTTV2Y3JwazRXQWc</td>\n",
       "      <td>Buenos Aires, 27 de junio de 2017 Hora de inic...</td>\n",
       "    </tr>\n",
       "  </tbody>\n",
       "</table>\n",
       "<p>2734 rows × 2 columns</p>\n",
       "</div>"
      ],
      "text/plain": [
       "                                           file_id  \\\n",
       "0                1ZEZSJXkKDSIyDULhRKfHXCLXpm-eYY0Z   \n",
       "1                1srRixiO6V3FMxoumtAxMfEPblqoD8-gn   \n",
       "2     1kpIno_4VKnxAcfmpXihrqTkpPbr15EvG4nqwfD6-xqc   \n",
       "3                1LHE9syGgdHcRRA7Ns9X31UPdYVy-GVJf   \n",
       "4                1N_D97m1WHrO9PqVpULeT1t_E0pI7XwO4   \n",
       "...                                            ...   \n",
       "2729  1KlV9Qcsff6ouhoSa-obG_Ci-FGgcPyp-zpYMsPYDjcQ   \n",
       "2730  1tgQM3WYrdelhcozMMDB_6-hP_3CuvOlNWkcCfSxUgaw   \n",
       "2731             1DrlPAykTylCmuLOnHnCeuuJXl70gq_Q-   \n",
       "2732                  0B9wNhp3GjjazWHRubGpjY0VXMEU   \n",
       "2733                  0B9wNhp3GjjazTTV2Y3JwazRXQWc   \n",
       "\n",
       "                                                   text  \n",
       "0      Buenos Aires,     de junio de 2019. AUTOS Y V...  \n",
       "1      Buenos Aires,       de diciembre de 2019. En ...  \n",
       "2     Resumen: resolución interlocutoria por la que ...  \n",
       "3                                                   ...  \n",
       "4      Buenos Aires,   11    de enero de 2019. La in...  \n",
       "...                                                 ...  \n",
       "2729  Resumen: resolución interlocutoria que rechaza...  \n",
       "2730  AUDIENCIA DE PRUEBA (Art. 210 CPP) VIDEOCONFER...  \n",
       "2731  ACTA DE AUDIENCIA “ XX s/ Art. 67 CC 2do párr-...  \n",
       "2732  Buenos Aires, 27 de junio de 2017 Hora de inic...  \n",
       "2733  Buenos Aires, 27 de junio de 2017 Hora de inic...  \n",
       "\n",
       "[2734 rows x 2 columns]"
      ]
     },
     "execution_count": 5,
     "metadata": {},
     "output_type": "execute_result"
    }
   ],
   "source": [
    "df = pd.DataFrame(data)\n",
    "df"
   ]
  },
  {
   "cell_type": "code",
   "execution_count": 101,
   "metadata": {},
   "outputs": [
    {
     "data": {
      "text/plain": [
       "'RESOLUCION INTERLOCUTORIA Rechaza pedido de interceptación telefónica – requisitos de necesidad y excepcionalidad  Buenos Aires,   de marzo de 2020. ANTECEDENTES: La presente causa se inició el día XX aproximadamente a las XX hs., frente a la altura catastral n°   XX dad cuando la agente XX -personal de Tránsito del GCBA- en el marco del control vehicular que realizaba en el lugar, detuvo la marcha del XX, identificando a su conductor como el imputado XX La inspectora le solicitó su documentación personal y la del vehículo y advirtió que la licencia que el acusado exhibió pretendiendo hacerla valer como una licencia de conducir que poseía n° XX , con fecha de otorgamiento del XX y con vencimiento del XX , no se encontraba en la base de datos del sistema informático de tránsito.  Frente a ello y toda vez que las licencias de conducir expedidas por el Gobierno de la Ciudad se encuentran inscriptas y registradas en esa aplicación, avisó lo sucedido al Oficial XX -perteneciente a la Policía de la Ciudad- que se encontraba allí designado como colaborador quien, luego de efectuar la consulta con el Fiscal de turno, procedió al secuestro del documento presuntamente apócrifo (pág. 1). El titular de la Fiscalía Penal, Contravencional y de Faltas N° 29 encuadró la conducta antes descripta como constitutiva de delito de hacer uso de un documento falso, que prevé la misma pena legal que la estipulada para quien falsifica un documento público, conforme los artículos 296 y 292 inc. 1 del CP (pág. 9). En ese sentido y por orden del señor Fiscal el Departamento Scopométrico de la Policía de la Ciudad efectuó la pericia correspondiente sobre el documento secuestrado, la que arrojó como resultado que la licencia de conducir N° XX  a nombre de XX era apócrifa (pág. 14/19) El 21 de enero del corriente año el Señor Fiscal le hizo saber a XX el hecho que se le imputaba y le tomó declaración (Art. 161 CPPCABA). En esa oportunidad, el señor XX decidió declarar y explicó que había concurrido a la Dirección Nacional de Tránsito a fin de  obtener su licencia de conducir, y como él es esquizofrénico, en la fila especial de discapacitados se le acercó una persona que le ofreció realizarle el trámite.  Refirió que lo hizo pasar por varias ventanillas y completar formularios, y que luego de un rato le entregó la licencia de conducir que le secuestró el personal policial, y le pidió una propina a cambio de la ayuda prestada.  Expresó que como no tenía plata, quien lo había ayudado le brindó sus datos personales -XX , con domicilio en XX  y teléfono XX -, y le indicó que debía llevarle a la casa la suma de siete mil pesos. Como no lo hizo, ésta persona se comunicó a su celular y fue a su hogar en reiteradas ocasiones para reclamarle el pago, por lo que cree que obtuvo sus datos de las planillas que el completó al efectuar la tramitación de la licencia, lo que finalmente hizo por temor (pág. 11/12). En razón de ello, el señor Fiscal ofició a la firma XX , la cual informó que la línea que aportara el imputado en su declaración fue asignada a XX , con domicilio en XX , teléfono de contacto XX desde el XX al XX fecha en que la línea fue transferida a otro operador de la línea por portabilidad numérica (pág. 27)  Con esa información personal de la Fiscalía hizo una búsqueda en el sistema NOSIS y agregó copias de partidas de nacimiento, que dan cuenta que XX se domicilia en la calle XX  y tiene una hija de nombre XX , quien conforme las actuaciones obtenidas del Sistema Temis tiene una línea de teléfono activo con el número XX  Así las cosas, el titular de la acción tramitó el legajo a esta sede y solicitó la intervención telefónica por el término de treinta (30) días, en la modalidad de escucha directa, con información adjunta de número Ilamado/llamante, de la línea telefónicas n° XX perteneciente a XX y de la línea XX perteneciente a XX , a fin de determinar una posible organización destinada a entregar licencias de conducir apócrifas, en los términos del art. 117 del CPPCABA,.  Asimismo, solicitó que en caso de que hiciera lugar a lo peticionado ordene la realización de la misma a través de la Dirección de Asistencia Judicial en Delitos Complejos y Crimen Organizado dando aviso inmediato al Sr. Jefe la División Operaciones Especiales de la Policía de la Ciudad para el posterior retiro y análisis de los soportes magnéticos  vinculados con las escuchas. ARGUMENTOS: La intervención de una línea telefónica para conocer las llamadas que allí se reciban y el contenido de los diálogos que puedan producirse importa una innegable restricción al derecho a la intimidad tanto del sujeto receptor, como del emisor de las comunicaciones (artículos 18, 19, 75 inc. 22 Constitución Nacional y 12.3, 13.3 y 13.8 Constitución de la Ciudad Autónoma de Buenos Aires; art. 11 de la Convención Americana sobre Derechos Humanos; art. 17 del Pacto Internacional de Derechos Civiles y Políticos). Con relación a los presupuestos necesarios para habilitar una medida como la requerida, la Corte Suprema de Justicia de la Nación, ha resaltado que “(…) una orden de registro -domiciliario o, como en este caso, de las comunicaciones telefónicas a los fines de develar su secreto y conocer su contenido- sólo puede ser válidamente dictada por un juez cuando median elementos objetivos idóneos para fundar una mínima sospecha razonable (…)” (CSJN, Fallos, 333:1674,  “QUARANTA”, rta. el 31/08/10; considerando 19º, con remisión a la disidencia del Ministro Petracchi en “YEMAL”, Fallos 321:510, considerando 5° y sus citas). La Corte Interamericana de Derechos Humanos, al analizar el art. 11 CADH, destacó que se “(…) prohíbe toda injerencia arbitraria o abusiva en la vida privada de las personas, enunciando diversos ámbitos de la misma como la vida privada de sus familias, sus domicilios o sus correspondencias (…)”, puntualizando que aunque las conversaciones telefónicas no se encuentran expresamente previstas en dicho artículo, “(…) se trata de una forma de comunicación que, al igual que la correspondencia, se encuentra incluida dentro del ámbito de protección del derecho a la vida privada (…)” (Corte IDH, caso “TRISTÁN DONOSO vs. Panamá”, sentencia del 27 de enero de 2009. Serie C Nº 193, párrafo 55 y sus citas; en el mismo sentido caso “ESCHER y otros vs. Brasil”, sentencia de 6 de julio de 2009. Serie C Nº 200, párrafo 114). Por este motivo, para que resulte legítima la injerencia estatal en dicho ámbito de la vida privada, se deben observar ciertas condiciones estrictas, como ser que la medida esté fundada en la ley, que sea precisa y detallada, y que se encuentre respaldada por una orden judicial debidamente fundada, que tenga respaldo en la existencia de causa probable de la comisión de un delito.  Así, el artículo 117 del Código Procesal Penal de la Ciudad Autónoma de Buenos Aires (en adelante, CPPCABA), establece “Ante pedido fundamentado del/la Fiscal, el/la Juez/a podrá ordenar, mediante auto, la intervención de comunicaciones del/la imputado/a por cualquier medio, para impedirlas o conocerlas. La intervención de comunicaciones tendrá carácter excepcional y sólo podrá efectuarse por un plazo de treinta (30) días, pudiendo ser renovada sólo una vez por quince (15) días más, expresando los motivos que justifican la extensión del plazo. Rige para los funcionarios encargados de efectuar la intervención el deber de confidencialidad y secreto respecto de la información obtenida por estos medios, excepto respecto de la autoridad que la haya requerido. Quienes incumplan este deber incurrirán en responsabilidad personal. En ningún caso podrá usarse este medio de investigación para eludir el derecho del/la imputado/a de negarse a declarar sin que ello importe presunción en su contra o suplir las declaraciones testimoniales prohibidas por vínculo de parentesco o secreto profesional.”. Por lo dicho, a los requisitos legales que surgen de la normativa procesal, debe añadirse el recaudo constitucional relativo al mérito sustantivo, puesto una medida de estas características únicamente resultaría válida en tanto exista causa probable de la comisión de un delito y de la autoría del/los imputado/s; y sólo en la medida que resulte necesaria para la investigación y proporcional en atención a la gravedad del delito investigado. Ahora bien, a poco que analizo el caso, encuentro que no existe una imputación formal respecto de XX , sino que la causa se sigue contra XX por la presunta infracción al art. 296 del CP. En ese sentido, considero que se debieron haber extraído testimonios respecto de los hechos relatados por el imputado y remitidos a la Fiscalía en turno para que se inicie una investigación diferente. Más allá de ello, lo cierto es que dicha falencia, sumada a la falta de fundamentación del pedido de intervención telefónica, no me permite efectuar el control de legalidad respecto de si existen elementos suficientes que permitan tener por acreditado, con el grado requerido a esta altura del proceso, la materialidad del hecho y la autoría por parte de quienes resultarían afectados por el requerimiento, y en consecuencia la idoneidad de éste. Por otra parte, no puedo dejar de resaltar que hasta el momento, el único elemento probatorio existente es la declaración de quien resulta imputado, quien refirió que una persona que se habría identificado XX y entregado sus datos personales, le habría entregado una licencia de conducir apócrifa.  En ese sentido, no resulta válido habilitar una medida como la requerida, si tal pretensión no se encuentra respaldada por elementos serios, precisos y concordantes, que objetivamente avalen una determinada hipótesis de investigación.  Por todo ello, en respeto de las garantías constitucionales señaladas y a la luz de los principios de necesidad y proporcionalidad, como límite a las injerencias del Estado en los derechos individuales, entiendo que corresponde rechazar la medida solicitada. Por último, advirtiendo que en la audiencia en los términos del art. 161 del CPPCABA XX refirió ser esquizofrénico, y acompaño su certificado de discapacidad, el que se encuentra vigente conforme informara la Dirección Legal y Técnica del Ministerio de Salud del GCBA (pág. 25), es que la Fiscalía deberá dar a intervención a la Asesoría Tutelar que corresponda.  En consecuencia, RESUELVO:  I. NO HACER LUGAR al pedido de intervención de comunicaciones solicitado por el señor Fiscal (art. 117 CPPCABA, en sentido contrario; arts. 18 y 75, inc. 22 CN; art. 5 y 10 DADDH; art. 12 DUDH; art. 11.2 CADH; 13.8 y 12.3 CCABA).  II. REMÍTASE la presente causa a la Fiscalía a fin de que tome conocimiento de lo resuelto.     En    de marzo de 2020 se remitió a la Fiscalía PCyF Nº 29.  Juzgado PCyF Nº 10 - Tacuarí 138, 7º Piso - juzcyf10@jusbaires.gob.ar - 4014-6821/20 - @jpcyf10 \\t   JUZGADO DE 1RA INSTANCIA EN LO PENAL CONTRAVENCIONAL Y DE FALTAS N°10 \\xa0 SECRETARIA N°19   Juzgado PCyF Nº 10 - Tacuarí 138, 7º Piso - juzcyf10@jusbaires.gob.ar - 4014-6821/20 - @jpcyf10'"
      ]
     },
     "execution_count": 101,
     "metadata": {},
     "output_type": "execute_result"
    }
   ],
   "source": [
    "i = np.random.randint(0, len(df))\n",
    "text = df.text[i]\n",
    "text"
   ]
  },
  {
   "cell_type": "markdown",
   "metadata": {},
   "source": [
    "## Pipeline"
   ]
  },
  {
   "cell_type": "code",
   "execution_count": 102,
   "metadata": {},
   "outputs": [
    {
     "data": {
      "text/plain": [
       "'resolucion interlocutoria rechaza pedido de interceptación telefónica – requisitos de necesidad y excepcionalidad buenos aires, de marzo de . antecedentes: la presente causa se inició el día xx aproximadamente a las xx hs., frente a la altura catastral n° xx dad cuando la agente xx -personal de tránsito del gcba- en el marco del control vehicular que realizaba en el lugar, detuvo la marcha del xx, identificando a su conductor como el imputado xx la inspectora le solicitó su documentación personal y la del vehículo y advirtió que la licencia que el acusado exhibió pretendiendo hacerla valer como una licencia de conducir que poseía n° xx , con fecha de otorgamiento del xx y con vencimiento del xx , no se encontraba en la base de datos del sistema informático de tránsito. frente a ello y toda vez que las licencias de conducir expedidas por el gobierno de la ciudad se encuentran inscriptas y registradas en esa aplicación, avisó lo sucedido al oficial xx -perteneciente a la policía de la ciudad- que se encontraba allí designado como colaborador quien, luego de efectuar la consulta con el fiscal de turno, procedió al secuestro del documento presuntamente apócrifo (pág. ). el titular de la fiscalía penal, contravencional y de faltas n° encuadró la conducta antes descripta como constitutiva de delito de hacer uso de un documento falso, que prevé la misma pena legal que la estipulada para quien falsifica un documento público, conforme los artículos y inc. del cp (pág. ). en ese sentido y por orden del señor fiscal el departamento scopométrico de la policía de la ciudad efectuó la pericia correspondiente sobre el documento secuestrado, la que arrojó como resultado que la licencia de conducir n° xx a nombre de xx era apócrifa (pág. /) el de enero del corriente año el señor fiscal le hizo saber a xx el hecho que se le imputaba y le tomó declaración (art. cppcaba). en esa oportunidad, el señor xx decidió declarar y explicó que había concurrido a la dirección nacional de tránsito a fin de obtener su licencia de conducir, y como él es esquizofrénico, en la fila especial de discapacitados se le acercó una persona que le ofreció realizarle el trámite. refirió que lo hizo pasar por varias ventanillas y completar formularios, y que luego de un rato le entregó la licencia de conducir que le secuestró el personal policial, y le pidió una propina a cambio de la ayuda prestada. expresó que como no tenía plata, quien lo había ayudado le brindó sus datos personales -xx , con domicilio en xx y teléfono xx -, y le indicó que debía llevarle a la casa la suma de siete mil pesos. como no lo hizo, ésta persona se comunicó a su celular y fue a su hogar en reiteradas ocasiones para reclamarle el pago, por lo que cree que obtuvo sus datos de las planillas que el completó al efectuar la tramitación de la licencia, lo que finalmente hizo por temor (pág. /). en razón de ello, el señor fiscal ofició a la firma xx , la cual informó que la línea que aportara el imputado en su declaración fue asignada a xx , con domicilio en xx , teléfono de contacto xx desde el xx al xx fecha en que la línea fue transferida a otro operador de la línea por portabilidad numérica (pág. ) con esa información personal de la fiscalía hizo una búsqueda en el sistema nosis y agregó copias de partidas de nacimiento, que dan cuenta que xx se domicilia en la calle xx y tiene una hija de nombre xx , quien conforme las actuaciones obtenidas del sistema temis tiene una línea de teléfono activo con el número xx así las cosas, el titular de la acción tramitó el legajo a esta sede y solicitó la intervención telefónica por el término de treinta () días, en la modalidad de escucha directa, con información adjunta de número ilamado/llamante, de la línea telefónicas n° xx perteneciente a xx y de la línea xx perteneciente a xx , a fin de determinar una posible organización destinada a entregar licencias de conducir apócrifas, en los términos del art. del cppcaba,. asimismo, solicitó que en caso de que hiciera lugar a lo peticionado ordene la realización de la misma a través de la dirección de asistencia judicial en delitos complejos y crimen organizado dando aviso inmediato al sr. jefe la división operaciones especiales de la policía de la ciudad para el posterior retiro y análisis de los soportes magnéticos vinculados con las escuchas. argumentos: la intervención de una línea telefónica para conocer las llamadas que allí se reciban y el contenido de los diálogos que puedan producirse importa una innegable restricción al derecho a la intimidad tanto del sujeto receptor, como del emisor de las comunicaciones (artículos , , inc. constitución nacional y ., . y . constitución de la ciudad autónoma de buenos aires; art. de la convención americana sobre derechos humanos; art. del pacto internacional de derechos civiles y políticos). con relación a los presupuestos necesarios para habilitar una medida como la requerida, la corte suprema de justicia de la nación, ha resaltado que “(…) una orden de registro -domiciliario o, como en este caso, de las comunicaciones telefónicas a los fines de develar su secreto y conocer su contenido- sólo puede ser válidamente dictada por un juez cuando median elementos objetivos idóneos para fundar una mínima sospecha razonable (…)” (csjn, fallos, :, “quaranta”, rta. el //; considerando º, con remisión a la disidencia del ministro petracchi en “yemal”, fallos :, considerando ° y sus citas). la corte interamericana de derechos humanos, al analizar el art. cadh, destacó que se “(…) prohíbe toda injerencia arbitraria o abusiva en la vida privada de las personas, enunciando diversos ámbitos de la misma como la vida privada de sus familias, sus domicilios o sus correspondencias (…)”, puntualizando que aunque las conversaciones telefónicas no se encuentran expresamente previstas en dicho artículo, “(…) se trata de una forma de comunicación que, al igual que la correspondencia, se encuentra incluida dentro del ámbito de protección del derecho a la vida privada (…)” (corte idh, caso “tristán donoso vs. panamá”, sentencia del de enero de . serie c nº , párrafo y sus citas; en el mismo sentido caso “escher y otros vs. brasil”, sentencia de de julio de . serie c nº , párrafo ). por este motivo, para que resulte legítima la injerencia estatal en dicho ámbito de la vida privada, se deben observar ciertas condiciones estrictas, como ser que la medida esté fundada en la ley, que sea precisa y detallada, y que se encuentre respaldada por una orden judicial debidamente fundada, que tenga respaldo en la existencia de causa probable de la comisión de un delito. así, el artículo del código procesal penal de la ciudad autónoma de buenos aires (en adelante, cppcaba), establece “ante pedido fundamentado del/la fiscal, el/la juez/a podrá ordenar, mediante auto, la intervención de comunicaciones del/la imputado/a por cualquier medio, para impedirlas o conocerlas. la intervención de comunicaciones tendrá carácter excepcional y sólo podrá efectuarse por un plazo de treinta () días, pudiendo ser renovada sólo una vez por quince () días más, expresando los motivos que justifican la extensión del plazo. rige para los funcionarios encargados de efectuar la intervención el deber de confidencialidad y secreto respecto de la información obtenida por estos medios, excepto respecto de la autoridad que la haya requerido. quienes incumplan este deber incurrirán en responsabilidad personal. en ningún caso podrá usarse este medio de investigación para eludir el derecho del/la imputado/a de negarse a declarar sin que ello importe presunción en su contra o suplir las declaraciones testimoniales prohibidas por vínculo de parentesco o secreto profesional.”. por lo dicho, a los requisitos legales que surgen de la normativa procesal, debe añadirse el recaudo constitucional relativo al mérito sustantivo, puesto una medida de estas características únicamente resultaría válida en tanto exista causa probable de la comisión de un delito y de la autoría del/los imputado/s; y sólo en la medida que resulte necesaria para la investigación y proporcional en atención a la gravedad del delito investigado. ahora bien, a poco que analizo el caso, encuentro que no existe una imputación formal respecto de xx , sino que la causa se sigue contra xx por la presunta infracción al art. del cp. en ese sentido, considero que se debieron haber extraído testimonios respecto de los hechos relatados por el imputado y remitidos a la fiscalía en turno para que se inicie una investigación diferente. más allá de ello, lo cierto es que dicha falencia, sumada a la falta de fundamentación del pedido de intervención telefónica, no me permite efectuar el control de legalidad respecto de si existen elementos suficientes que permitan tener por acreditado, con el grado requerido a esta altura del proceso, la materialidad del hecho y la autoría por parte de quienes resultarían afectados por el requerimiento, y en consecuencia la idoneidad de éste. por otra parte, no puedo dejar de resaltar que hasta el momento, el único elemento probatorio existente es la declaración de quien resulta imputado, quien refirió que una persona que se habría identificado xx y entregado sus datos personales, le habría entregado una licencia de conducir apócrifa. en ese sentido, no resulta válido habilitar una medida como la requerida, si tal pretensión no se encuentra respaldada por elementos serios, precisos y concordantes, que objetivamente avalen una determinada hipótesis de investigación. por todo ello, en respeto de las garantías constitucionales señaladas y a la luz de los principios de necesidad y proporcionalidad, como límite a las injerencias del estado en los derechos individuales, entiendo que corresponde rechazar la medida solicitada. por último, advirtiendo que en la audiencia en los términos del art. del cppcaba xx refirió ser esquizofrénico, y acompaño su certificado de discapacidad, el que se encuentra vigente conforme informara la dirección legal y técnica del ministerio de salud del gcba (pág. ), es que la fiscalía deberá dar a intervención a la asesoría tutelar que corresponda. en consecuencia, resuelvo: i. no hacer lugar al pedido de intervención de comunicaciones solicitado por el señor fiscal (art. cppcaba, en sentido contrario; arts. y , inc. cn; art. y daddh; art. dudh; art. . cadh; . y . ccaba). ii. remítase la presente causa a la fiscalía a fin de que tome conocimiento de lo resuelto. en de marzo de se remitió a la fiscalía pcyf nº . juzgado pcyf nº - tacuarí , º piso - juzcyf@jusbaires.gob.ar - -/ - @jpcyf juzgado de ra instancia en lo penal contravencional y de faltas n° secretaria n° juzgado pcyf nº - tacuarí , º piso - juzcyf@jusbaires.gob.ar - -/ - @jpcyf'"
      ]
     },
     "execution_count": 102,
     "metadata": {},
     "output_type": "execute_result"
    }
   ],
   "source": [
    "# lowercase everything\n",
    "text = text.lower()\n",
    "# remove numbers... AUNQUE PUEDEN SER IMPORTANTES. TODO\n",
    "text = re.sub(r\"\\d+\", \"\", text)\n",
    "# remove whitespaces\n",
    "text = \" \".join(text.split())\n",
    "text"
   ]
  },
  {
   "cell_type": "code",
   "execution_count": 103,
   "metadata": {},
   "outputs": [],
   "source": [
    "def remove_symbols(text, symbols):\n",
    "    \"\"\" Function that uses regular expressions to delete all symbols\n",
    "        given by the user from the tweets\n",
    "\n",
    "    Args:\n",
    "        text:\n",
    "        symbols: list containing all the symbols to replace\n",
    "\n",
    "    Returns:\n",
    "        clean text \n",
    "\n",
    "    \"\"\"\n",
    "\n",
    "    # generate regular expression\n",
    "    rx = '[' + re.escape(''.join(symbols)) + ']'\n",
    "\n",
    "    return re.sub(rx, '', text)"
   ]
  },
  {
   "cell_type": "code",
   "execution_count": 104,
   "metadata": {},
   "outputs": [],
   "source": [
    "symbols = list(string.punctuation)\n",
    "symbols.extend([\"°\",\"º\", \"–\"])"
   ]
  },
  {
   "cell_type": "code",
   "execution_count": 105,
   "metadata": {},
   "outputs": [
    {
     "data": {
      "text/plain": [
       "'resolucion interlocutoria rechaza pedido de interceptación telefónica  requisitos de necesidad y excepcionalidad buenos aires de marzo de  antecedentes la presente causa se inició el día xx aproximadamente a las xx hs frente a la altura catastral n xx dad cuando la agente xx personal de tránsito del gcba en el marco del control vehicular que realizaba en el lugar detuvo la marcha del xx identificando a su conductor como el imputado xx la inspectora le solicitó su documentación personal y la del vehículo y advirtió que la licencia que el acusado exhibió pretendiendo hacerla valer como una licencia de conducir que poseía n xx  con fecha de otorgamiento del xx y con vencimiento del xx  no se encontraba en la base de datos del sistema informático de tránsito frente a ello y toda vez que las licencias de conducir expedidas por el gobierno de la ciudad se encuentran inscriptas y registradas en esa aplicación avisó lo sucedido al oficial xx perteneciente a la policía de la ciudad que se encontraba allí designado como colaborador quien luego de efectuar la consulta con el fiscal de turno procedió al secuestro del documento presuntamente apócrifo pág  el titular de la fiscalía penal contravencional y de faltas n encuadró la conducta antes descripta como constitutiva de delito de hacer uso de un documento falso que prevé la misma pena legal que la estipulada para quien falsifica un documento público conforme los artículos y inc del cp pág  en ese sentido y por orden del señor fiscal el departamento scopométrico de la policía de la ciudad efectuó la pericia correspondiente sobre el documento secuestrado la que arrojó como resultado que la licencia de conducir n xx a nombre de xx era apócrifa pág  el de enero del corriente año el señor fiscal le hizo saber a xx el hecho que se le imputaba y le tomó declaración art cppcaba en esa oportunidad el señor xx decidió declarar y explicó que había concurrido a la dirección nacional de tránsito a fin de obtener su licencia de conducir y como él es esquizofrénico en la fila especial de discapacitados se le acercó una persona que le ofreció realizarle el trámite refirió que lo hizo pasar por varias ventanillas y completar formularios y que luego de un rato le entregó la licencia de conducir que le secuestró el personal policial y le pidió una propina a cambio de la ayuda prestada expresó que como no tenía plata quien lo había ayudado le brindó sus datos personales xx  con domicilio en xx y teléfono xx  y le indicó que debía llevarle a la casa la suma de siete mil pesos como no lo hizo ésta persona se comunicó a su celular y fue a su hogar en reiteradas ocasiones para reclamarle el pago por lo que cree que obtuvo sus datos de las planillas que el completó al efectuar la tramitación de la licencia lo que finalmente hizo por temor pág  en razón de ello el señor fiscal ofició a la firma xx  la cual informó que la línea que aportara el imputado en su declaración fue asignada a xx  con domicilio en xx  teléfono de contacto xx desde el xx al xx fecha en que la línea fue transferida a otro operador de la línea por portabilidad numérica pág  con esa información personal de la fiscalía hizo una búsqueda en el sistema nosis y agregó copias de partidas de nacimiento que dan cuenta que xx se domicilia en la calle xx y tiene una hija de nombre xx  quien conforme las actuaciones obtenidas del sistema temis tiene una línea de teléfono activo con el número xx así las cosas el titular de la acción tramitó el legajo a esta sede y solicitó la intervención telefónica por el término de treinta  días en la modalidad de escucha directa con información adjunta de número ilamadollamante de la línea telefónicas n xx perteneciente a xx y de la línea xx perteneciente a xx  a fin de determinar una posible organización destinada a entregar licencias de conducir apócrifas en los términos del art del cppcaba asimismo solicitó que en caso de que hiciera lugar a lo peticionado ordene la realización de la misma a través de la dirección de asistencia judicial en delitos complejos y crimen organizado dando aviso inmediato al sr jefe la división operaciones especiales de la policía de la ciudad para el posterior retiro y análisis de los soportes magnéticos vinculados con las escuchas argumentos la intervención de una línea telefónica para conocer las llamadas que allí se reciban y el contenido de los diálogos que puedan producirse importa una innegable restricción al derecho a la intimidad tanto del sujeto receptor como del emisor de las comunicaciones artículos   inc constitución nacional y   y  constitución de la ciudad autónoma de buenos aires art de la convención americana sobre derechos humanos art del pacto internacional de derechos civiles y políticos con relación a los presupuestos necesarios para habilitar una medida como la requerida la corte suprema de justicia de la nación ha resaltado que “… una orden de registro domiciliario o como en este caso de las comunicaciones telefónicas a los fines de develar su secreto y conocer su contenido sólo puede ser válidamente dictada por un juez cuando median elementos objetivos idóneos para fundar una mínima sospecha razonable …” csjn fallos  “quaranta” rta el  considerando  con remisión a la disidencia del ministro petracchi en “yemal” fallos  considerando  y sus citas la corte interamericana de derechos humanos al analizar el art cadh destacó que se “… prohíbe toda injerencia arbitraria o abusiva en la vida privada de las personas enunciando diversos ámbitos de la misma como la vida privada de sus familias sus domicilios o sus correspondencias …” puntualizando que aunque las conversaciones telefónicas no se encuentran expresamente previstas en dicho artículo “… se trata de una forma de comunicación que al igual que la correspondencia se encuentra incluida dentro del ámbito de protección del derecho a la vida privada …” corte idh caso “tristán donoso vs panamá” sentencia del de enero de  serie c n  párrafo y sus citas en el mismo sentido caso “escher y otros vs brasil” sentencia de de julio de  serie c n  párrafo  por este motivo para que resulte legítima la injerencia estatal en dicho ámbito de la vida privada se deben observar ciertas condiciones estrictas como ser que la medida esté fundada en la ley que sea precisa y detallada y que se encuentre respaldada por una orden judicial debidamente fundada que tenga respaldo en la existencia de causa probable de la comisión de un delito así el artículo del código procesal penal de la ciudad autónoma de buenos aires en adelante cppcaba establece “ante pedido fundamentado della fiscal ella jueza podrá ordenar mediante auto la intervención de comunicaciones della imputadoa por cualquier medio para impedirlas o conocerlas la intervención de comunicaciones tendrá carácter excepcional y sólo podrá efectuarse por un plazo de treinta  días pudiendo ser renovada sólo una vez por quince  días más expresando los motivos que justifican la extensión del plazo rige para los funcionarios encargados de efectuar la intervención el deber de confidencialidad y secreto respecto de la información obtenida por estos medios excepto respecto de la autoridad que la haya requerido quienes incumplan este deber incurrirán en responsabilidad personal en ningún caso podrá usarse este medio de investigación para eludir el derecho della imputadoa de negarse a declarar sin que ello importe presunción en su contra o suplir las declaraciones testimoniales prohibidas por vínculo de parentesco o secreto profesional” por lo dicho a los requisitos legales que surgen de la normativa procesal debe añadirse el recaudo constitucional relativo al mérito sustantivo puesto una medida de estas características únicamente resultaría válida en tanto exista causa probable de la comisión de un delito y de la autoría dellos imputados y sólo en la medida que resulte necesaria para la investigación y proporcional en atención a la gravedad del delito investigado ahora bien a poco que analizo el caso encuentro que no existe una imputación formal respecto de xx  sino que la causa se sigue contra xx por la presunta infracción al art del cp en ese sentido considero que se debieron haber extraído testimonios respecto de los hechos relatados por el imputado y remitidos a la fiscalía en turno para que se inicie una investigación diferente más allá de ello lo cierto es que dicha falencia sumada a la falta de fundamentación del pedido de intervención telefónica no me permite efectuar el control de legalidad respecto de si existen elementos suficientes que permitan tener por acreditado con el grado requerido a esta altura del proceso la materialidad del hecho y la autoría por parte de quienes resultarían afectados por el requerimiento y en consecuencia la idoneidad de éste por otra parte no puedo dejar de resaltar que hasta el momento el único elemento probatorio existente es la declaración de quien resulta imputado quien refirió que una persona que se habría identificado xx y entregado sus datos personales le habría entregado una licencia de conducir apócrifa en ese sentido no resulta válido habilitar una medida como la requerida si tal pretensión no se encuentra respaldada por elementos serios precisos y concordantes que objetivamente avalen una determinada hipótesis de investigación por todo ello en respeto de las garantías constitucionales señaladas y a la luz de los principios de necesidad y proporcionalidad como límite a las injerencias del estado en los derechos individuales entiendo que corresponde rechazar la medida solicitada por último advirtiendo que en la audiencia en los términos del art del cppcaba xx refirió ser esquizofrénico y acompaño su certificado de discapacidad el que se encuentra vigente conforme informara la dirección legal y técnica del ministerio de salud del gcba pág  es que la fiscalía deberá dar a intervención a la asesoría tutelar que corresponda en consecuencia resuelvo i no hacer lugar al pedido de intervención de comunicaciones solicitado por el señor fiscal art cppcaba en sentido contrario arts y  inc cn art y daddh art dudh art  cadh  y  ccaba ii remítase la presente causa a la fiscalía a fin de que tome conocimiento de lo resuelto en de marzo de se remitió a la fiscalía pcyf n  juzgado pcyf n  tacuarí   piso  juzcyfjusbairesgobar    jpcyf juzgado de ra instancia en lo penal contravencional y de faltas n secretaria n juzgado pcyf n  tacuarí   piso  juzcyfjusbairesgobar    jpcyf'"
      ]
     },
     "execution_count": 105,
     "metadata": {},
     "output_type": "execute_result"
    }
   ],
   "source": [
    "# remove punctuation and other symbols\n",
    "text = remove_symbols(text, symbols)\n",
    "text"
   ]
  },
  {
   "cell_type": "code",
   "execution_count": 106,
   "metadata": {},
   "outputs": [],
   "source": [
    "def remove_expressions(text, expressions):\n",
    "    \n",
    "    for exp in expressions:\n",
    "        text = re.sub(exp, \"\", text)\n",
    "    \n",
    "    return text"
   ]
  },
  {
   "cell_type": "code",
   "execution_count": 107,
   "metadata": {},
   "outputs": [
    {
     "data": {
      "text/plain": [
       "'resolucion interlocutoria rechaza pedido de interceptación telefónica  requisitos de necesidad y excepcionalidad buenos aires de marzo de  antecedentes la presente causa se inició el día  aproximadamente a las  hs frente a la altura catastral dad cuando la agente  personal de tránsito del gcba en el marco del control vehicular que realizaba en el lugar detuvo la marcha del  identificando a su conductor como el imputado  la inspectora le solicitó su documentación personal y la del vehículo y advirtió que la licencia que el acusado exhibió pretendiendo hacerla valer como una licencia de conducir que poseía  con fecha de otorgamiento del  y con vencimiento del   no se encontraba en la base de datos del sistema informático de tránsito frente a ello y toda vez que las licencias de conducir expedidas por el gobierno de la ciudad se encuentran inscriptas y registradas en esa aplicación avisó lo sucedido al oficial  perteneciente a la policía de la ciudad que se encontraba allí designado como colaborador quien luego de efectuar la consulta con el fiscal de turno procedió al secuestro del documento presuntamente apócrifo pág  el titular de la fiscalía penal contravencional y de faltasencuadró la conducta antes descripta como constitutiva de delito de hacer uso de un documento falso que prevé la misma pena legal que la estipulada para quien falsifica un documento público conforme los artículos y inc del cp pág  en ese sentido y por orden del señor fiscal el departamento scopométrico de la policía de la ciudad efectuó la pericia correspondiente sobre el documento secuestrado la que arrojó como resultado que la licencia de conducir a nombre de  era apócrifa pág  el de enero del corriente año el señor fiscal le hizo saber a  el hecho que se le imputaba y le tomó declaración art cppcaba en esa oportunidad el señor  decidió declarar y explicó que había concurrido a la dirección nacional de tránsito a fin de obtener su licencia de conducir y como él es esquizofrénico en la fila especial de discapacitados se le acercó una persona que le ofreció realizarle el trámite refirió que lo hizo pasar por varias ventanillas y completar formularios y que luego de un rato le entregó la licencia de conducir que le secuestró el personal policial y le pidió una propina a cambio de la ayuda prestada expresó que como no tenía plata quien lo había ayudado le brindó sus datos personales   con domicilio en  y teléfono   y le indicó que debía llevarle a la casa la suma de siete mil pesos como no lo hizo ésta persona se comunicó a su celular y fue a su hogar en reiteradas ocasiones para reclamarle el pago por lo que cree que obtuvo sus datos de las planillas que el completó al efectuar la tramitación de la licencia lo que finalmente hizo por temor pág  en razón de ello el señor fiscal ofició a la firma   la cual informó que la línea que aportara el imputado en su declaración fue asignada a   con domicilio en   teléfono de contacto  desde el  al  fecha en que la línea fue transferida a otro operador de la línea por portabilidad numérica pág  con esa información personal de la fiscalía hizo una búsqueda en el sistema nosis y agregó copias de partidas de nacimiento que dan cuenta que  se domicilia en la calle  y tiene una hija de nombre   quien conforme las actuaciones obtenidas del sistema temis tiene una línea de teléfono activo con el número  así las cosas el titular de la acción tramitó el legajo a esta sede y solicitó la intervención telefónica por el término de treinta  días en la modalidad de escucha directa con información adjunta de número ilamadollamante de la línea telefónicas perteneciente a  y de la línea  perteneciente a   a fin de determinar una posible organización destinada a entregar licencias de conducir apócrifas en los términos del art del cppcaba asimismo solicitó que en caso de que hiciera lugar a lo peticionado ordene la realización de la misma a través de la dirección de asistencia judicial en delitos complejos y crimen organizado dando aviso inmediato al sr jefe la división operaciones especiales de la policía de la ciudad para el posterior retiro y análisis de los soportes magnéticos vinculados con las escuchas argumentos la intervención de una línea telefónica para conocer las llamadas que allí se reciban y el contenido de los diálogos que puedan producirse importa una innegable restricción al derecho a la intimidad tanto del sujeto receptor como del emisor de las comunicaciones artículos   inc constitución nacional y   y  constitución de la ciudad autónoma de buenos aires art de la convención americana sobre derechos humanos art del pacto internacional de derechos civiles y políticos con relación a los presupuestos necesarios para habilitar una medida como la requerida la corte suprema de justicia de la nación ha resaltado que “… una orden de registro domiciliario o como en este caso de las comunicaciones telefónicas a los fines de develar su secreto y conocer su contenido sólo puede ser válidamente dictada por un juez cuando median elementos objetivos idóneos para fundar una mínima sospecha razonable …” csjn fallos  “quaranta” rta el  considerando  con remisión a la disidencia del ministro petracchi en “yemal” fallos  considerando  y sus citas la corte interamericana de derechos humanos al analizar el art cadh destacó que se “… prohíbe toda injerencia arbitraria o abusiva en la vida privada de las personas enunciando diversos ámbitos de la misma como la vida privada de sus familias sus domicilios o sus correspondencias …” puntualizando que aunque las conversaciones telefónicas no se encuentran expresamente previstas en dicho artículo “… se trata de una forma de comunicación que al igual que la correspondencia se encuentra incluida dentro del ámbito de protección del derecho a la vida privada …” corte idh caso “tristán donoso vs panamá” sentencia del de enero de  serie c párrafo y sus citas en el mismo sentido caso “escher y otros vs brasil” sentencia de de julio de  serie c párrafo  por este motivo para que resulte legítima la injerencia estatal en dicho ámbito de la vida privada se deben observar ciertas condiciones estrictas como ser que la medida esté fundada en la ley que sea precisa y detallada y que se encuentre respaldada por una orden judicial debidamente fundada que tenga respaldo en la existencia de causa probable de la comisión de un delito así el artículo del código procesal penal de la ciudad autónoma de buenos aires en adelante cppcaba establece “ante pedido fundamentado della fiscal ella jueza podrá ordenar mediante auto la intervención de comunicaciones della imputadoa por cualquier medio para impedirlas o conocerlas la intervención de comunicaciones tendrá carácter excepcional y sólo podrá efectuarse por un plazo de treinta  días pudiendo ser renovada sólo una vez por quince  días más expresando los motivos que justifican la extensión del plazo rige para los funcionarios encargados de efectuar la intervención el deber de confidencialidad y secreto respecto de la información obtenida por estos medios excepto respecto de la autoridad que la haya requerido quienes incumplan este deber incurrirán en responsabilidad personal en ningún caso podrá usarse este medio de investigación para eludir el derecho della imputadoa de negarse a declarar sin que ello importe presunción en su contra o suplir las declaraciones testimoniales prohibidas por vínculo de parentesco o secreto profesional” por lo dicho a los requisitos legales que surgen de la normativa procesal debe añadirse el recaudo constitucional relativo al mérito sustantivo puesto una medida de estas características únicamente resultaría válida en tanto exista causa probable de la comisión de un delito y de la autoría dellos imputados y sólo en la medida que resulte necesaria para la investigación y proporcional en atención a la gravedad del delito investigado ahora bien a poco que analizo el caso encuentro que no existe una imputación formal respecto de   sino que la causa se sigue contra  por la presunta infracción al art del cp en ese sentido considero que se debieron haber extraído testimonios respecto de los hechos relatados por el imputado y remitidos a la fiscalía en turno para que se inicie una investigación diferente más allá de ello lo cierto es que dicha falencia sumada a la falta de fundamentación del pedido de intervención telefónica no me permite efectuar el control de legalidad respecto de si existen elementos suficientes que permitan tener por acreditado con el grado requerido a esta altura del proceso la materialidad del hecho y la autoría por parte de quienes resultarían afectados por el requerimiento y en consecuencia la idoneidad de éste por otra parte no puedo dejar de resaltar que hasta el momento el único elemento probatorio existente es la declaración de quien resulta imputado quien refirió que una persona que se habría identificado  y entregado sus datos personales le habría entregado una licencia de conducir apócrifa en ese sentido no resulta válido habilitar una medida como la requerida si tal pretensión no se encuentra respaldada por elementos serios precisos y concordantes que objetivamente avalen una determinada hipótesis de investigación por todo ello en respeto de las garantías constitucionales señaladas y a la luz de los principios de necesidad y proporcionalidad como límite a las injerencias del estado en los derechos individuales entiendo que corresponde rechazar la medida solicitada por último advirtiendo que en la audiencia en los términos del art del cppcaba  refirió ser esquizofrénico y acompaño su certificado de discapacidad el que se encuentra vigente conforme informara la dirección legal y técnica del ministerio de salud del gcba pág  es que la fiscalía deberá dar a intervención a la asesoría tutelar que corresponda en consecuencia resuelvo i no hacer lugar al pedido de intervención de comunicaciones solicitado por el señor fiscal art cppcaba en sentido contrario arts y  inc cn art y daddh art dudh art  cadh  y  ccaba ii remítase la presente causa a la fiscalía a fin de que tome conocimiento de lo resuelto en de marzo de se remitió a la fiscalía pcyf juzgado pcyf tacuarí   piso  juzcyfjusbairesgobar    jpcyf juzgado de ra instancia en lo penal contravencional y de faltassecretariajuzgado pcyf tacuarí   piso  juzcyfjusbairesgobar    jpcyf'"
      ]
     },
     "execution_count": 107,
     "metadata": {},
     "output_type": "execute_result"
    }
   ],
   "source": [
    "expressions = [\"x{2}\", \"\\sn\\s\"]\n",
    "text = remove_expressions(text, expressions)\n",
    "text"
   ]
  },
  {
   "cell_type": "markdown",
   "metadata": {},
   "source": [
    "## Everything together"
   ]
  },
  {
   "cell_type": "code",
   "execution_count": 108,
   "metadata": {},
   "outputs": [],
   "source": [
    "def preprocessing(text, symbols, expressions):\n",
    "    \"\"\"\n",
    "    \"\"\"\n",
    "    # TODO: entender que texto debería ser guarado antes de preprocesar todo\n",
    "    #   con especial enfasis en los articulos penales\n",
    "\n",
    "    # lowercase everything\n",
    "    text = text.lower()\n",
    "    # remove numbers\n",
    "    text = re.sub(r\"\\d+\", \"\", text)\n",
    "    # remove whitespaces\n",
    "    text = \" \".join(text.split())\n",
    "    # remove punctuation and other symbols\n",
    "    text = remove_symbols(text, symbols)\n",
    "    # remove expressions\n",
    "    text = remove_expressions(text, expressions)\n",
    "\n",
    "    return text"
   ]
  },
  {
   "cell_type": "code",
   "execution_count": 110,
   "metadata": {},
   "outputs": [],
   "source": [
    "clean_text = [preprocessing(text,symbols,expressions) for text in df[\"text\"]\n",
    "              if text is not None]\n"
   ]
  },
  {
   "cell_type": "markdown",
   "metadata": {},
   "source": [
    "## SPACY"
   ]
  },
  {
   "cell_type": "code",
   "execution_count": 112,
   "metadata": {},
   "outputs": [],
   "source": [
    "import spacy\n",
    "nlp = spacy.load(\"es_core_news_sm\")"
   ]
  },
  {
   "cell_type": "code",
   "execution_count": 113,
   "metadata": {},
   "outputs": [
    {
     "data": {
      "text/plain": [
       "<spacy.lang.es.Spanish at 0x7f9ff2fad610>"
      ]
     },
     "execution_count": 113,
     "metadata": {},
     "output_type": "execute_result"
    }
   ],
   "source": [
    "nlp"
   ]
  },
  {
   "cell_type": "code",
   "execution_count": 116,
   "metadata": {},
   "outputs": [],
   "source": [
    "from sklearn.feature_extraction.text import TfidfVectorizer\n",
    "from sklearn.base import TransformerMixin\n",
    "from sklearn.pipeline import Pipeline"
   ]
  },
  {
   "cell_type": "code",
   "execution_count": 141,
   "metadata": {},
   "outputs": [],
   "source": [
    "def text_preprocessor(text):\n",
    "    \"\"\"\n",
    "    \"\"\"\n",
    "    # TODO: entender que texto debería ser guarado antes de preprocesar todo\n",
    "    #   con especial enfasis en los articulos penales\n",
    "\n",
    "    \n",
    "    expressions = [\"x{2}\", \"\\sn\\s\"]\n",
    "    symbols = list(string.punctuation)\n",
    "    symbols.extend([\"°\",\"º\", \"–\"])\n",
    "    \n",
    "\n",
    "    \n",
    "    # lowercase everything\n",
    "    text = text.lower()\n",
    "    # remove numbers\n",
    "    text = re.sub(r\"\\d+\", \"\", text)\n",
    "    # remove whitespaces\n",
    "    text = \" \".join(text.split())\n",
    "    # remove punctuation and other symbols\n",
    "    text = remove_symbols(text, symbols)\n",
    "    # remove expressions\n",
    "    text = remove_expressions(text, expressions)\n",
    "    \n",
    "    return text\n",
    "    \n",
    "def spacy_tokenizer(text):\n",
    "    \"\"\"\n",
    "    \"\"\"\n",
    "    \n",
    "    stop_words = spacy.lang.es.stop_words.STOP_WORDS\n",
    "    # Creating our token object, which is used to create documents with linguistic annotations.\n",
    "    tokens = nlp(text)\n",
    "    # Lemmatizing each token\n",
    "    lemmas = [word.lemma_ for word in tokens if word.lemma_ != \"-PRON-\" ]\n",
    "    # Removing stop words\n",
    "    lemmas = [word for word in lemmas if word not in stop_words]\n",
    "\n",
    "\n",
    "    return lemmas"
   ]
  },
  {
   "cell_type": "code",
   "execution_count": 126,
   "metadata": {},
   "outputs": [],
   "source": [
    "tfidf_vector = TfidfVectorizer(tokenizer = spacy_tokenizer)"
   ]
  },
  {
   "cell_type": "code",
   "execution_count": 130,
   "metadata": {},
   "outputs": [],
   "source": [
    "df.dropna(inplace=True)\n",
    "X = tfidf_vector.fit_transform(df.text)"
   ]
  },
  {
   "cell_type": "code",
   "execution_count": 131,
   "metadata": {},
   "outputs": [
    {
     "data": {
      "text/plain": [
       "(2685, 23778)"
      ]
     },
     "execution_count": 131,
     "metadata": {},
     "output_type": "execute_result"
    }
   ],
   "source": [
    "X.shape"
   ]
  },
  {
   "cell_type": "markdown",
   "metadata": {},
   "source": [
    "## Pipelines"
   ]
  },
  {
   "cell_type": "code",
   "execution_count": 136,
   "metadata": {},
   "outputs": [],
   "source": [
    "class TextPreprocessor(TransformerMixin):\n",
    "    def transform(self, X, **transform_params):\n",
    "        return [text_preprocessor(text) for text in X]\n",
    "\n",
    "    def fit(self, X, y=None, **fit_params):\n",
    "        return self\n",
    "\n",
    "    def get_params(self, deep=True):\n",
    "        return {}"
   ]
  },
  {
   "cell_type": "code",
   "execution_count": 148,
   "metadata": {},
   "outputs": [],
   "source": [
    "from sklearn.pipeline import Pipeline\n",
    "from sklearn.base import TransformerMixin\n",
    "from sklearn.impute import SimpleImputer\n",
    "from sklearn.preprocessing import StandardScaler, OneHotEncoder\n",
    "\n",
    "numeric_transformer = Pipeline(steps=[\n",
    "    ('imputer', SimpleImputer(strategy='median')),\n",
    "    ('scaler', StandardScaler())])\n",
    "categorical_transformer = Pipeline(steps=[\n",
    "    ('imputer', SimpleImputer(strategy='constant', fill_value='missing')),\n",
    "    ('onehot', OneHotEncoder(handle_unknown='ignore'))])\n",
    "\n",
    "text_transformer = Pipeline(steps=[\n",
    "    ('preprocessor', TextPreprocessor()),\n",
    "    ('vectorizer', TfidfVectorizer(tokenizer = spacy_tokenizer)) ])"
   ]
  },
  {
   "cell_type": "code",
   "execution_count": 151,
   "metadata": {},
   "outputs": [
    {
     "name": "stdout",
     "output_type": "stream",
     "text": [
      "--- 7.840799220403036 minutes ---\n"
     ]
    }
   ],
   "source": [
    "import time\n",
    "start_time = time.time()\n",
    "X = text_transformer.fit_transform(df.text)\n",
    "print(\"--- %s minutes ---\" % ((time.time() - start_time)/60))"
   ]
  },
  {
   "cell_type": "code",
   "execution_count": null,
   "metadata": {},
   "outputs": [],
   "source": []
  }
 ],
 "metadata": {
  "kernelspec": {
   "display_name": "Python 3",
   "language": "python",
   "name": "python3"
  },
  "language_info": {
   "codemirror_mode": {
    "name": "ipython",
    "version": 3
   },
   "file_extension": ".py",
   "mimetype": "text/x-python",
   "name": "python",
   "nbconvert_exporter": "python",
   "pygments_lexer": "ipython3",
   "version": "3.8.2"
  },
  "toc": {
   "base_numbering": 1,
   "nav_menu": {},
   "number_sections": false,
   "sideBar": true,
   "skip_h1_title": false,
   "title_cell": "Table of Contents",
   "title_sidebar": "Contents",
   "toc_cell": false,
   "toc_position": {},
   "toc_section_display": true,
   "toc_window_display": false
  },
  "varInspector": {
   "cols": {
    "lenName": 16,
    "lenType": 16,
    "lenVar": 40
   },
   "kernels_config": {
    "python": {
     "delete_cmd_postfix": "",
     "delete_cmd_prefix": "del ",
     "library": "var_list.py",
     "varRefreshCmd": "print(var_dic_list())"
    },
    "r": {
     "delete_cmd_postfix": ") ",
     "delete_cmd_prefix": "rm(",
     "library": "var_list.r",
     "varRefreshCmd": "cat(var_dic_list()) "
    }
   },
   "types_to_exclude": [
    "module",
    "function",
    "builtin_function_or_method",
    "instance",
    "_Feature"
   ],
   "window_display": false
  }
 },
 "nbformat": 4,
 "nbformat_minor": 4
}
