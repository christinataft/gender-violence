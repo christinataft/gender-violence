{
 "cells": [
  {
   "cell_type": "code",
   "execution_count": 29,
   "metadata": {},
   "outputs": [],
   "source": [
    "import docx\n",
    "\n",
    "def get_text_word(filename):\n",
    "    doc = docx.Document(filename)\n",
    "    fullText = []\n",
    "    for para in doc.paragraphs:\n",
    "        fullText.append(para.text)\n",
    "    return ' '.join(fullText)"
   ]
  },
  {
   "cell_type": "code",
   "execution_count": 32,
   "metadata": {},
   "outputs": [],
   "source": [
    "text = get_text_word('prueba.docx')"
   ]
  },
  {
   "cell_type": "code",
   "execution_count": 33,
   "metadata": {},
   "outputs": [
    {
     "data": {
      "text/plain": [
       "'Prueba'"
      ]
     },
     "execution_count": 33,
     "metadata": {},
     "output_type": "execute_result"
    }
   ],
   "source": [
    "text"
   ]
  },
  {
   "cell_type": "code",
   "execution_count": 27,
   "metadata": {},
   "outputs": [],
   "source": [
    "from odf import text, teletype\n",
    "from odf.opendocument import load\n",
    "\n",
    "def get_text_odt(file_path): \n",
    "\n",
    "    textdoc = load(file_path)\n",
    "    full_text = []\n",
    "    for para in textdoc.getElementsByType(text.P):\n",
    "        full_text.append(teletype.extractText(para))\n",
    "\n",
    "    return ' '.join(full_text)"
   ]
  },
  {
   "cell_type": "code",
   "execution_count": 28,
   "metadata": {},
   "outputs": [
    {
     "data": {
      "text/plain": [
       "'RESOLUCIÓN INTERLOCUTORIA Declara admisible la prueba solicitada por las partes (art. 47 Ley de Procedimiento Contravencional, en adelante LPC) Buenos Aires, 23 de julio de 2020. ANTECEDENTES Y ARGUMENTOS El pasado XX el señor Fiscal presentó el requerimiento de elevación a juicio y ofreció prueba en los términos del art. 47 LPC. Dicho requerimiento se puso en conocimiento de la Defensoría interviniente para que ofreciera prueba en los términos del art. antes mencionado, cuyo ofrecimiento fue presentado el pasado XX. Luego de ello, el pasado XX fijé audiencia en los términos del art. 47 LPC para el 16 de julio del corriente año. En dicha oportunidad, la Prosecretaria de este Juzgado se comunicó con ambas partes quienes le manifestaron que no tenían oposiciones a la prueba de la contraparte y que preferían que se resolviera por escrito (constancia del pasado 21 de julio). Asimismo, la Defensoría interviniente mencionó que quería dejar constancia que se encontraban en tratativas para arribar a una forma alternativa de resolución del conflicto. Ahora bien, respecto a la prueba ofrecida por las partes, ya tengo dicho que los informes de antecedentes del acusado los tiene que certificar de oficio el tribunal de juicio para dictar sentencia, sin perjuicio de lo cual las partes tienen la facultad de requerirlos e introducirlos al debate al momento de alegar. Es por ello que lo admitir en estos términos. En cuanto a la restante prueba requerida por ambas partes entiendo que corresponde hacer lugar en atención al principio de amplitud probatoria (arts. 106 y 107 CPPCABA, de aplicación supletoria conforme lo dispuesto por el art. 6 LPC), y en particular el límite que me impone el principio acusatorio en la medida que no existe controversia entre las partes respecto de la prueba que debería producirse en el juicio (art. 13.3 CCABA), además de que no advierto ninguna cuestión de orden público que deba analizar. En razón de ello, DECIDE: 1. DECLARAR ADMISIBLE la prueba ofrecida por la FISCALÍA: A) TESTIMONIAL: Se cite a declarar a las siguientes personas: XX  B) DOCUMENTAL: Se introduzca por lectura y/ o exhibición durante el debate, a fin de refrescar la memoria de los testigos, en los términos de los arts. 240 y 241 CPPCABA, aplicables en virtud de lo dispuesto por el art. 6 LPC: XX  2. DECLARAR ADMISIBLE la prueba ofrecida por la DEFENSA: A) TESTIMONIAL: Se cite a declarar a las siguientes personas: XX  B) INFORMATIVA:\\xa0 Informe socioambiental del Señor XX realizado por personal de la Dirección de Asistencia Técnica de la Defensoría General, el cual deberá ser presentado ante el Juez que intervenga en la etapa de debate. 3. FORMAR LEGAJO DE JUICIO para lo cual se deberá adjuntar copia el requerimiento de juicio y de esta resolución. 4. DETERMINAR mediante el sistema informático EJE el Juzgado que entenderá en el juicio y enviar digitalmente dicho legajo al Juzgado que resulte sorteado. 5. DEVOLVER mediante el sistema EJE las restantes actuaciones a la Fiscalía interviniente.\\xa0\\xa0\\xa0  PALABRAS_CLAVE: admisibilidad_de_la_prueba  Juzgado PCyF Nº 10 - Tacuarí 138, 7º Piso - juzcyf10@jusbaires.gob.ar - 4014-6821/20 - @jpcyf10 \\t \\t JUZGADO DE 1RA INSTANCIA EN LO PENAL CONTRAVENCIONAL Y DE FALTAS N°10 \\xa0 SECRETARIA N°19 XX SOBRE 53 BIS - AGRAVANTES (CONDUCTAS DESCRIPTAS EN LOS ARTÍCULOS 51, 52 Y 53) Número: IPP XX Juzgado PCyF Nº 10 - Tacuarí 138, 7º Piso - juzcyf10@jusbaires.gob.ar - 4014-6821/20 - @jpcyf10'"
      ]
     },
     "execution_count": 28,
     "metadata": {},
     "output_type": "execute_result"
    }
   ],
   "source": [
    "test = get_text_odt('test.odt')\n",
    "test"
   ]
  },
  {
   "cell_type": "code",
   "execution_count": null,
   "metadata": {},
   "outputs": [],
   "source": []
  }
 ],
 "metadata": {
  "kernelspec": {
   "display_name": "Python 3",
   "language": "python",
   "name": "python3"
  },
  "language_info": {
   "codemirror_mode": {
    "name": "ipython",
    "version": 3
   },
   "file_extension": ".py",
   "mimetype": "text/x-python",
   "name": "python",
   "nbconvert_exporter": "python",
   "pygments_lexer": "ipython3",
   "version": "3.8.2"
  },
  "toc": {
   "base_numbering": 1,
   "nav_menu": {},
   "number_sections": false,
   "sideBar": true,
   "skip_h1_title": false,
   "title_cell": "Table of Contents",
   "title_sidebar": "Contents",
   "toc_cell": false,
   "toc_position": {},
   "toc_section_display": true,
   "toc_window_display": false
  },
  "varInspector": {
   "cols": {
    "lenName": 16,
    "lenType": 16,
    "lenVar": 40
   },
   "kernels_config": {
    "python": {
     "delete_cmd_postfix": "",
     "delete_cmd_prefix": "del ",
     "library": "var_list.py",
     "varRefreshCmd": "print(var_dic_list())"
    },
    "r": {
     "delete_cmd_postfix": ") ",
     "delete_cmd_prefix": "rm(",
     "library": "var_list.r",
     "varRefreshCmd": "cat(var_dic_list()) "
    }
   },
   "types_to_exclude": [
    "module",
    "function",
    "builtin_function_or_method",
    "instance",
    "_Feature"
   ],
   "window_display": false
  }
 },
 "nbformat": 4,
 "nbformat_minor": 4
}
